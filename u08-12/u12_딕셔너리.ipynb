{
  "nbformat": 4,
  "nbformat_minor": 0,
  "metadata": {
    "colab": {
      "name": "u12_딕셔너리.ipynb",
      "provenance": []
    },
    "kernelspec": {
      "name": "python3",
      "display_name": "Python 3"
    },
    "language_info": {
      "name": "python"
    }
  },
  "cells": [
    {
      "cell_type": "markdown",
      "metadata": {
        "id": "ma1SYnhlSdBb"
      },
      "source": [
        "# Unit 12. 딕셔너리(Dictionary)"
      ]
    },
    {
      "cell_type": "code",
      "metadata": {
        "colab": {
          "base_uri": "https://localhost:8080/"
        },
        "id": "iJ4Or25iScj7",
        "outputId": "7211c023-e9d6-482f-8574-429afaa7e492"
      },
      "source": [
        "lux=[490, 334, 550, 18.72]\n",
        "lux"
      ],
      "execution_count": 1,
      "outputs": [
        {
          "output_type": "execute_result",
          "data": {
            "text/plain": [
              "[490, 334, 550, 18.72]"
            ]
          },
          "metadata": {
            "tags": []
          },
          "execution_count": 1
        }
      ]
    },
    {
      "cell_type": "code",
      "metadata": {
        "colab": {
          "base_uri": "https://localhost:8080/"
        },
        "id": "8gV-wAnySkyw",
        "outputId": "2a474dd7-2281-4ec1-a88f-7d496b76dfc2"
      },
      "source": [
        "lux = {\n",
        "    'health':490,       # 체력\n",
        "    'mana':334,         #마력\n",
        "    'melee':550,        #사거리\n",
        "    'armor':18.72       #방어력\n",
        "}\n",
        "lux"
      ],
      "execution_count": 2,
      "outputs": [
        {
          "output_type": "execute_result",
          "data": {
            "text/plain": [
              "{'armor': 18.72, 'health': 490, 'mana': 334, 'melee': 550}"
            ]
          },
          "metadata": {
            "tags": []
          },
          "execution_count": 2
        }
      ]
    },
    {
      "cell_type": "markdown",
      "metadata": {
        "id": "3QKRt2C3S2qB"
      },
      "source": [
        "## 12.1 딕셔너리 생성"
      ]
    },
    {
      "cell_type": "code",
      "metadata": {
        "colab": {
          "base_uri": "https://localhost:8080/"
        },
        "id": "XhoWFh19SwUP",
        "outputId": "89ab2258-f086-414f-de3b-55021e622812"
      },
      "source": [
        "a=['a','b','c','d']\n",
        "b=[1,2,3,4]\n",
        "dict(zip(a,b))"
      ],
      "execution_count": 3,
      "outputs": [
        {
          "output_type": "execute_result",
          "data": {
            "text/plain": [
              "{'a': 1, 'b': 2, 'c': 3, 'd': 4}"
            ]
          },
          "metadata": {
            "tags": []
          },
          "execution_count": 3
        }
      ]
    },
    {
      "cell_type": "markdown",
      "metadata": {
        "id": "TD3v9EG6V8Z-"
      },
      "source": [
        "## 12.2 딕셔너리 키에 접근하고 값 할당"
      ]
    },
    {
      "cell_type": "code",
      "metadata": {
        "colab": {
          "base_uri": "https://localhost:8080/"
        },
        "id": "DwkTpmJUV6yV",
        "outputId": "b0d2e293-ec50-4983-9f70-5d561b611088"
      },
      "source": [
        "lux"
      ],
      "execution_count": 4,
      "outputs": [
        {
          "output_type": "execute_result",
          "data": {
            "text/plain": [
              "{'armor': 18.72, 'health': 490, 'mana': 334, 'melee': 550}"
            ]
          },
          "metadata": {
            "tags": []
          },
          "execution_count": 4
        }
      ]
    },
    {
      "cell_type": "code",
      "metadata": {
        "colab": {
          "base_uri": "https://localhost:8080/"
        },
        "id": "4dQ-bnJFXJnM",
        "outputId": "56915724-2c3d-49a5-f87f-e427a46a10ba"
      },
      "source": [
        "lux['mana'], lux['armor']"
      ],
      "execution_count": 5,
      "outputs": [
        {
          "output_type": "execute_result",
          "data": {
            "text/plain": [
              "(334, 18.72)"
            ]
          },
          "metadata": {
            "tags": []
          },
          "execution_count": 5
        }
      ]
    },
    {
      "cell_type": "code",
      "metadata": {
        "colab": {
          "base_uri": "https://localhost:8080/"
        },
        "id": "NV_OVdKLXOOA",
        "outputId": "fb5403b3-45b6-45e6-c622-7327be8b5013"
      },
      "source": [
        "# 키 값이 기존 딕셔너리에 없으면 새롭게 추가\n",
        "lux['new']=10\n",
        "lux"
      ],
      "execution_count": 6,
      "outputs": [
        {
          "output_type": "execute_result",
          "data": {
            "text/plain": [
              "{'armor': 18.72, 'health': 490, 'mana': 334, 'melee': 550, 'new': 10}"
            ]
          },
          "metadata": {
            "tags": []
          },
          "execution_count": 6
        }
      ]
    },
    {
      "cell_type": "code",
      "metadata": {
        "colab": {
          "base_uri": "https://localhost:8080/"
        },
        "id": "zWE7lRfDXVwA",
        "outputId": "884c0f0b-a70c-457c-d0f9-761695879db4"
      },
      "source": [
        "lux['mana']=1000\n",
        "lux"
      ],
      "execution_count": 7,
      "outputs": [
        {
          "output_type": "execute_result",
          "data": {
            "text/plain": [
              "{'armor': 18.72, 'health': 490, 'mana': 1000, 'melee': 550, 'new': 10}"
            ]
          },
          "metadata": {
            "tags": []
          },
          "execution_count": 7
        }
      ]
    },
    {
      "cell_type": "code",
      "metadata": {
        "colab": {
          "base_uri": "https://localhost:8080/"
        },
        "id": "WM05xcsJXZS-",
        "outputId": "332f2ded-e526-4911-a367-c2da7d18bf35"
      },
      "source": [
        "'mana' in lux"
      ],
      "execution_count": 8,
      "outputs": [
        {
          "output_type": "execute_result",
          "data": {
            "text/plain": [
              "True"
            ]
          },
          "metadata": {
            "tags": []
          },
          "execution_count": 8
        }
      ]
    },
    {
      "cell_type": "code",
      "metadata": {
        "colab": {
          "base_uri": "https://localhost:8080/"
        },
        "id": "JCkfIJC4Yv8W",
        "outputId": "51922633-5e9a-4dd3-a431-1a944cb1f975"
      },
      "source": [
        "# 'mana' 항목이 존재하면 기존 값 + 100, 없으면 값이 50이 되게 만드시오\n",
        "e={}\n",
        "\n",
        "if 'mana' in e:\n",
        "    e['mana']=e['mana']+100\n",
        "else:\n",
        "    e['mana']=50\n",
        "\n",
        "e"
      ],
      "execution_count": 11,
      "outputs": [
        {
          "output_type": "execute_result",
          "data": {
            "text/plain": [
              "{'mana': 50}"
            ]
          },
          "metadata": {
            "tags": []
          },
          "execution_count": 11
        }
      ]
    },
    {
      "cell_type": "markdown",
      "metadata": {
        "id": "lfombX3-ZLxi"
      },
      "source": [
        "### 딕셔너리 키의 갯수"
      ]
    },
    {
      "cell_type": "code",
      "metadata": {
        "colab": {
          "base_uri": "https://localhost:8080/"
        },
        "id": "GE0joW_HZAyn",
        "outputId": "d269486c-7294-4bab-e64b-1f6a00d42278"
      },
      "source": [
        "lux"
      ],
      "execution_count": 13,
      "outputs": [
        {
          "output_type": "execute_result",
          "data": {
            "text/plain": [
              "{'armor': 18.72, 'health': 490, 'mana': 1000, 'melee': 550, 'new': 10}"
            ]
          },
          "metadata": {
            "tags": []
          },
          "execution_count": 13
        }
      ]
    },
    {
      "cell_type": "code",
      "metadata": {
        "colab": {
          "base_uri": "https://localhost:8080/"
        },
        "id": "tuo-vLL0ZR2N",
        "outputId": "1246a27c-7f61-4e4a-bf46-843066921a4e"
      },
      "source": [
        "len(lux)"
      ],
      "execution_count": 14,
      "outputs": [
        {
          "output_type": "execute_result",
          "data": {
            "text/plain": [
              "5"
            ]
          },
          "metadata": {
            "tags": []
          },
          "execution_count": 14
        }
      ]
    },
    {
      "cell_type": "code",
      "metadata": {
        "id": "cIAkLJEFZSn2"
      },
      "source": [
        ""
      ],
      "execution_count": null,
      "outputs": []
    }
  ]
}