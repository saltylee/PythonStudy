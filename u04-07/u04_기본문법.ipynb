{
  "nbformat": 4,
  "nbformat_minor": 0,
  "metadata": {
    "colab": {
      "name": "u04_기본문법.ipynb",
      "provenance": [],
      "collapsed_sections": [
        "0m2lI-bkg1Id",
        "nc8-4-2gewV3"
      ]
    },
    "kernelspec": {
      "name": "python3",
      "display_name": "Python 3"
    },
    "language_info": {
      "name": "python"
    }
  },
  "cells": [
    {
      "cell_type": "markdown",
      "metadata": {
        "id": "KIn3FUeVhMeU"
      },
      "source": [
        "# Unit 4. 기본 문법 알아보기"
      ]
    },
    {
      "cell_type": "markdown",
      "metadata": {
        "id": "0m2lI-bkg1Id"
      },
      "source": [
        "## 4.1 세미콜론"
      ]
    },
    {
      "cell_type": "code",
      "metadata": {
        "colab": {
          "base_uri": "https://localhost:8080/"
        },
        "id": "7gQjRGqxg5XK",
        "outputId": "f4a07038-78f7-4d08-f9de-bbcc7c753136"
      },
      "source": [
        "print('hello, world!')"
      ],
      "execution_count": 16,
      "outputs": [
        {
          "output_type": "stream",
          "text": [
            "hello, world!\n"
          ],
          "name": "stdout"
        }
      ]
    },
    {
      "cell_type": "code",
      "metadata": {
        "colab": {
          "base_uri": "https://localhost:8080/"
        },
        "id": "FJKNpXkkhBD2",
        "outputId": "bd58cbd1-518a-48ac-a94f-bbb3e887cf51"
      },
      "source": [
        "print('hello'); print('1234 ')"
      ],
      "execution_count": 17,
      "outputs": [
        {
          "output_type": "stream",
          "text": [
            "hello\n",
            "1234 \n"
          ],
          "name": "stdout"
        }
      ]
    },
    {
      "cell_type": "markdown",
      "metadata": {
        "id": "F_9rGO9ZetRQ"
      },
      "source": [
        "## 4.2 주석"
      ]
    },
    {
      "cell_type": "markdown",
      "metadata": {
        "id": "nc8-4-2gewV3"
      },
      "source": [
        "### 4.2.1 한 줄 주석"
      ]
    },
    {
      "cell_type": "code",
      "metadata": {
        "colab": {
          "base_uri": "https://localhost:8080/"
        },
        "id": "8agkniQqcRx3",
        "outputId": "2ed6a6c8-e859-4991-b12c-39af3cc7bdb4"
      },
      "source": [
        "# HELLO, WORLD! 출력\n",
        "print('Hello, world!')"
      ],
      "execution_count": 11,
      "outputs": [
        {
          "output_type": "stream",
          "text": [
            "Hello, world!\n"
          ],
          "name": "stdout"
        }
      ]
    },
    {
      "cell_type": "code",
      "metadata": {
        "colab": {
          "base_uri": "https://localhost:8080/"
        },
        "id": "kV5IO4-7e5Vs",
        "outputId": "9ac88f7d-1fd8-4a71-857e-436d6fb2ecb7"
      },
      "source": [
        "print('hello, world!')"
      ],
      "execution_count": 6,
      "outputs": [
        {
          "output_type": "stream",
          "text": [
            "hello, world!\n"
          ],
          "name": "stdout"
        }
      ]
    },
    {
      "cell_type": "markdown",
      "metadata": {
        "id": "NUchxqDKfSK3"
      },
      "source": [
        "### 4.2.2 블록 주석"
      ]
    },
    {
      "cell_type": "code",
      "metadata": {
        "id": "2qlqRNwofVBV"
      },
      "source": [
        "# 더하기\n",
        "# a=1+2\n",
        "# print('hello, world!')"
      ],
      "execution_count": 8,
      "outputs": []
    },
    {
      "cell_type": "code",
      "metadata": {
        "colab": {
          "base_uri": "https://localhost:8080/",
          "height": 35
        },
        "id": "mqnSo46pfgsX",
        "outputId": "2abf00a2-108a-42d6-f068-df6a9ae05b28"
      },
      "source": [
        "# 더하기\n",
        "'''a=1+2\n",
        "print('hello, world!')'''"
      ],
      "execution_count": 19,
      "outputs": [
        {
          "output_type": "execute_result",
          "data": {
            "application/vnd.google.colaboratory.intrinsic+json": {
              "type": "string"
            },
            "text/plain": [
              "\"a=1+2\\nprint('hello, world!')\""
            ]
          },
          "metadata": {
            "tags": []
          },
          "execution_count": 19
        }
      ]
    },
    {
      "cell_type": "code",
      "metadata": {
        "colab": {
          "base_uri": "https://localhost:8080/",
          "height": 35
        },
        "id": "QcT2ItdkiRN4",
        "outputId": "34d0b328-af5a-4238-a6f0-76b6a22305f1"
      },
      "source": [
        "\"\"\"\n",
        "이 안에 포함된 내용이 블록 주석\n",
        "\"\"\""
      ],
      "execution_count": 20,
      "outputs": [
        {
          "output_type": "execute_result",
          "data": {
            "application/vnd.google.colaboratory.intrinsic+json": {
              "type": "string"
            },
            "text/plain": [
              "'\\n이 안에 포함된 내용이 블록 주석\\n'"
            ]
          },
          "metadata": {
            "tags": []
          },
          "execution_count": 20
        }
      ]
    },
    {
      "cell_type": "markdown",
      "metadata": {
        "id": "R8pg9ZI3iWX8"
      },
      "source": [
        "### 4.3 들여쓰기 (Indentation)"
      ]
    },
    {
      "cell_type": "code",
      "metadata": {
        "colab": {
          "base_uri": "https://localhost:8080/",
          "height": 35
        },
        "id": "d4M4ih_XibEd",
        "outputId": "a7510b11-f941-4dbe-abbb-a0a2b7dd6e27"
      },
      "source": [
        "\"\"\" C 프로그래밍 예\n",
        "sum=0;\n",
        "for(i=1; i<=10; i++){\n",
        "  sum+=i;\n",
        "}\n",
        "printf(sum);\n",
        "\"\"\""
      ],
      "execution_count": 26,
      "outputs": [
        {
          "output_type": "execute_result",
          "data": {
            "application/vnd.google.colaboratory.intrinsic+json": {
              "type": "string"
            },
            "text/plain": [
              "' C 프로그래밍 예\\nsum=0;\\nfor(i=1; i<=10; i++){\\n  sum+=i;\\n}\\nprintf(sum);\\n'"
            ]
          },
          "metadata": {
            "tags": []
          },
          "execution_count": 26
        }
      ]
    },
    {
      "cell_type": "code",
      "metadata": {
        "colab": {
          "base_uri": "https://localhost:8080/"
        },
        "id": "5sR2VmJzjHEX",
        "outputId": "013e38aa-f750-4072-f5f5-830ac0bac6bf"
      },
      "source": [
        "# 파이썬 예\n",
        "sum=0\n",
        "for i in range(1,11):\n",
        "  sum+=i\n",
        "print(sum)"
      ],
      "execution_count": 32,
      "outputs": [
        {
          "output_type": "stream",
          "text": [
            "55\n"
          ],
          "name": "stdout"
        }
      ]
    },
    {
      "cell_type": "code",
      "metadata": {
        "colab": {
          "base_uri": "https://localhost:8080/"
        },
        "id": "LgqRAwUwjwWN",
        "outputId": "66ef811c-47bd-460a-a3ad-cfeec11fc073"
      },
      "source": [
        "# 기본 공백 : 4칸, 탭/백탭(Shift+tab)\n",
        "sum=0\n",
        "for i in range(1,11):\n",
        "    sum+=i\n",
        "    if(i>9):\n",
        "        print(i)\n",
        "\n",
        "print(sum)"
      ],
      "execution_count": 39,
      "outputs": [
        {
          "output_type": "stream",
          "text": [
            "10\n",
            "55\n"
          ],
          "name": "stdout"
        }
      ]
    }
  ]
}