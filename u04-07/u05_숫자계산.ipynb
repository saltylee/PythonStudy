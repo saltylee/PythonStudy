{
  "nbformat": 4,
  "nbformat_minor": 0,
  "metadata": {
    "colab": {
      "name": "u05_숫자계산.ipynb",
      "provenance": []
    },
    "kernelspec": {
      "name": "python3",
      "display_name": "Python 3"
    },
    "language_info": {
      "name": "python"
    }
  },
  "cells": [
    {
      "cell_type": "markdown",
      "metadata": {
        "id": "50JL7XBEo80w"
      },
      "source": [
        "# Unit 5. 숫자 계산하기"
      ]
    },
    {
      "cell_type": "markdown",
      "metadata": {
        "id": "Epkp9oDYpBRC"
      },
      "source": [
        "## 5.1 정수 계산하기"
      ]
    },
    {
      "cell_type": "code",
      "metadata": {
        "colab": {
          "base_uri": "https://localhost:8080/"
        },
        "id": "t19Tx16xo6Ld",
        "outputId": "3332724c-fafb-4f40-9dc6-b2f4d0c0605c"
      },
      "source": [
        "# 4칙연산, +, -, *, /, %, //\n",
        "5 / 2"
      ],
      "execution_count": 2,
      "outputs": [
        {
          "output_type": "execute_result",
          "data": {
            "text/plain": [
              "2.5"
            ]
          },
          "metadata": {
            "tags": []
          },
          "execution_count": 2
        }
      ]
    },
    {
      "cell_type": "code",
      "metadata": {
        "colab": {
          "base_uri": "https://localhost:8080/"
        },
        "id": "QPaN0dunq7hU",
        "outputId": "44e1f546-9b8c-4e2d-824b-ccda44a3e2fd"
      },
      "source": [
        "# % - modulo, 나머지\n",
        "5 % 2"
      ],
      "execution_count": 4,
      "outputs": [
        {
          "output_type": "execute_result",
          "data": {
            "text/plain": [
              "1"
            ]
          },
          "metadata": {
            "tags": []
          },
          "execution_count": 4
        }
      ]
    },
    {
      "cell_type": "code",
      "metadata": {
        "colab": {
          "base_uri": "https://localhost:8080/"
        },
        "id": "gmVMTyWetvmc",
        "outputId": "1005d367-3be0-44f1-f77e-9ba928009ab7"
      },
      "source": [
        "# // - 몫\n",
        "5 // 2"
      ],
      "execution_count": 6,
      "outputs": [
        {
          "output_type": "execute_result",
          "data": {
            "text/plain": [
              "2"
            ]
          },
          "metadata": {
            "tags": []
          },
          "execution_count": 6
        }
      ]
    },
    {
      "cell_type": "code",
      "metadata": {
        "colab": {
          "base_uri": "https://localhost:8080/"
        },
        "id": "u6INTW57t0Hs",
        "outputId": "9b0b5e03-6783-433a-d408-cab627868e69"
      },
      "source": [
        "# 3의 배수 - 어떤 숫자를 3으로 모듈로 연산 했을때 결과가 0인 경우\n",
        "6 % 3"
      ],
      "execution_count": 8,
      "outputs": [
        {
          "output_type": "execute_result",
          "data": {
            "text/plain": [
              "0"
            ]
          },
          "metadata": {
            "tags": []
          },
          "execution_count": 8
        }
      ]
    },
    {
      "cell_type": "code",
      "metadata": {
        "colab": {
          "base_uri": "https://localhost:8080/"
        },
        "id": "K8UWZPevuhTe",
        "outputId": "88760d4d-87f2-404a-8633-e9964d31a1f3"
      },
      "source": [
        "# 거듭제곱 - **\n",
        "2 ** 10"
      ],
      "execution_count": 10,
      "outputs": [
        {
          "output_type": "execute_result",
          "data": {
            "text/plain": [
              "1024"
            ]
          },
          "metadata": {
            "tags": []
          },
          "execution_count": 10
        }
      ]
    },
    {
      "cell_type": "markdown",
      "metadata": {
        "id": "KJc6AXFKvucM"
      },
      "source": [
        "### 값을 정수 (integer) 로 변환"
      ]
    },
    {
      "cell_type": "code",
      "metadata": {
        "colab": {
          "base_uri": "https://localhost:8080/"
        },
        "id": "atJlTBHpura9",
        "outputId": "97021463-cdfa-4041-81e2-11853b9b68e3"
      },
      "source": [
        "int(3.14)"
      ],
      "execution_count": 14,
      "outputs": [
        {
          "output_type": "execute_result",
          "data": {
            "text/plain": [
              "2"
            ]
          },
          "metadata": {
            "tags": []
          },
          "execution_count": 14
        }
      ]
    },
    {
      "cell_type": "code",
      "metadata": {
        "colab": {
          "base_uri": "https://localhost:8080/"
        },
        "id": "jZoUP7IcvIGy",
        "outputId": "4b629bd7-0d7d-48e2-bcfe-0c072dc2717f"
      },
      "source": [
        "int(5 / 2)"
      ],
      "execution_count": 16,
      "outputs": [
        {
          "output_type": "execute_result",
          "data": {
            "text/plain": [
              "2"
            ]
          },
          "metadata": {
            "tags": []
          },
          "execution_count": 16
        }
      ]
    },
    {
      "cell_type": "code",
      "metadata": {
        "colab": {
          "base_uri": "https://localhost:8080/"
        },
        "id": "ZYhpbOjWva5G",
        "outputId": "64df8585-0305-4a8c-b3be-1b7fbab541b3"
      },
      "source": [
        "# 'single quote', \"double quote\" -> '', \"\" 문자열\n",
        "int('55')"
      ],
      "execution_count": 17,
      "outputs": [
        {
          "output_type": "execute_result",
          "data": {
            "text/plain": [
              "55"
            ]
          },
          "metadata": {
            "tags": []
          },
          "execution_count": 17
        }
      ]
    },
    {
      "cell_type": "code",
      "metadata": {
        "colab": {
          "base_uri": "https://localhost:8080/"
        },
        "id": "nmkAWxxfvkZs",
        "outputId": "d71ec0cb-791d-49ef-8168-e9f2ac22acde"
      },
      "source": [
        "string = '55'\n",
        "value = int(string)\n",
        "string, value"
      ],
      "execution_count": 19,
      "outputs": [
        {
          "output_type": "execute_result",
          "data": {
            "text/plain": [
              "('55', 55)"
            ]
          },
          "metadata": {
            "tags": []
          },
          "execution_count": 19
        }
      ]
    },
    {
      "cell_type": "code",
      "metadata": {
        "colab": {
          "base_uri": "https://localhost:8080/"
        },
        "id": "qcJIz4zGwNk9",
        "outputId": "2068f8a3-9fb2-425d-f8b5-3b491eceeb67"
      },
      "source": [
        "type(string), type(value), type(3.14)"
      ],
      "execution_count": 22,
      "outputs": [
        {
          "output_type": "execute_result",
          "data": {
            "text/plain": [
              "(str, int, float)"
            ]
          },
          "metadata": {
            "tags": []
          },
          "execution_count": 22
        }
      ]
    },
    {
      "cell_type": "code",
      "metadata": {
        "colab": {
          "base_uri": "https://localhost:8080/"
        },
        "id": "dll2KLAZwV5t",
        "outputId": "b637c977-d570-4897-9401-c9ea18401cf9"
      },
      "source": [
        "# 몫과 나머지를 동시에 계산 divmod (5, 2)\n",
        "q, r = 5 // 2, 5 % 2\n",
        "q, r"
      ],
      "execution_count": 25,
      "outputs": [
        {
          "output_type": "execute_result",
          "data": {
            "text/plain": [
              "(2, 1)"
            ]
          },
          "metadata": {
            "tags": []
          },
          "execution_count": 25
        }
      ]
    },
    {
      "cell_type": "markdown",
      "metadata": {
        "id": "ILtI_hYVyA_J"
      },
      "source": [
        "### 진수"
      ]
    },
    {
      "cell_type": "code",
      "metadata": {
        "colab": {
          "base_uri": "https://localhost:8080/"
        },
        "id": "M4685dLOyCDG",
        "outputId": "bd3ad327-e443-4d59-9080-a863128dba62"
      },
      "source": [
        "# 2진수, 8진수, 16진수\n",
        "0b101, 0o5, 0x5"
      ],
      "execution_count": 26,
      "outputs": [
        {
          "output_type": "execute_result",
          "data": {
            "text/plain": [
              "(5, 5, 5)"
            ]
          },
          "metadata": {
            "tags": []
          },
          "execution_count": 26
        }
      ]
    },
    {
      "cell_type": "code",
      "metadata": {
        "colab": {
          "base_uri": "https://localhost:8080/"
        },
        "id": "3PaG5qveyNZw",
        "outputId": "8f0b87cb-6c42-4f0a-9b3f-7602ce22649b"
      },
      "source": [
        "0xa6"
      ],
      "execution_count": 28,
      "outputs": [
        {
          "output_type": "execute_result",
          "data": {
            "text/plain": [
              "166"
            ]
          },
          "metadata": {
            "tags": []
          },
          "execution_count": 28
        }
      ]
    },
    {
      "cell_type": "code",
      "metadata": {
        "id": "1kU4G17EzLsz"
      },
      "source": [
        "# red - 0xff0000, green - 0x00ff00, blue - 0x 0000ff\n",
        "#   #ffffff (흰색), #888888 (회색), #444444 (진한회색)"
      ],
      "execution_count": null,
      "outputs": []
    },
    {
      "cell_type": "markdown",
      "metadata": {
        "id": "SVCD6RM2znn3"
      },
      "source": [
        "## 5.2 실수"
      ]
    },
    {
      "cell_type": "code",
      "metadata": {
        "colab": {
          "base_uri": "https://localhost:8080/"
        },
        "id": "K6v6tF1YzqMp",
        "outputId": "93b4fd84-7587-4546-8c9a-dc68fcec4431"
      },
      "source": [
        "3.5 + 2.1"
      ],
      "execution_count": 29,
      "outputs": [
        {
          "output_type": "execute_result",
          "data": {
            "text/plain": [
              "5.6"
            ]
          },
          "metadata": {
            "tags": []
          },
          "execution_count": 29
        }
      ]
    },
    {
      "cell_type": "code",
      "metadata": {
        "colab": {
          "base_uri": "https://localhost:8080/"
        },
        "id": "PnLTWJchzvGR",
        "outputId": "309ee3cf-ff12-4981-8d37-889826ca9b78"
      },
      "source": [
        "4.3 - 2.7"
      ],
      "execution_count": 30,
      "outputs": [
        {
          "output_type": "execute_result",
          "data": {
            "text/plain": [
              "1.5999999999999996"
            ]
          },
          "metadata": {
            "tags": []
          },
          "execution_count": 30
        }
      ]
    },
    {
      "cell_type": "code",
      "metadata": {
        "colab": {
          "base_uri": "https://localhost:8080/"
        },
        "id": "-kBblQgfzx3-",
        "outputId": "0ec0c9f2-3540-41b2-fb98-73f233174f45"
      },
      "source": [
        "1.5 * 3.1"
      ],
      "execution_count": 33,
      "outputs": [
        {
          "output_type": "execute_result",
          "data": {
            "text/plain": [
              "4.65"
            ]
          },
          "metadata": {
            "tags": []
          },
          "execution_count": 33
        }
      ]
    },
    {
      "cell_type": "code",
      "metadata": {
        "colab": {
          "base_uri": "https://localhost:8080/"
        },
        "id": "usFNvoFDzzKc",
        "outputId": "84d15e7f-f48a-4469-c5bf-62bbf4f02426"
      },
      "source": [
        "5.5 / 3.1"
      ],
      "execution_count": 32,
      "outputs": [
        {
          "output_type": "execute_result",
          "data": {
            "text/plain": [
              "1.7741935483870968"
            ]
          },
          "metadata": {
            "tags": []
          },
          "execution_count": 32
        }
      ]
    },
    {
      "cell_type": "code",
      "metadata": {
        "colab": {
          "base_uri": "https://localhost:8080/"
        },
        "id": "Og__DX_3z0ku",
        "outputId": "718e5ebf-219b-4bae-e991-41b06ff41faa"
      },
      "source": [
        "4.3 - 2.7 == 1.6"
      ],
      "execution_count": 34,
      "outputs": [
        {
          "output_type": "execute_result",
          "data": {
            "text/plain": [
              "False"
            ]
          },
          "metadata": {
            "tags": []
          },
          "execution_count": 34
        }
      ]
    },
    {
      "cell_type": "code",
      "metadata": {
        "colab": {
          "base_uri": "https://localhost:8080/"
        },
        "id": "kEUJ_pjc0p3N",
        "outputId": "233c3496-03f0-42ce-cbb7-c3f7131743e0"
      },
      "source": [
        "import numpy as np\n",
        "np.abs((4.3-2.7)-1.6) < 1e-10"
      ],
      "execution_count": 36,
      "outputs": [
        {
          "output_type": "execute_result",
          "data": {
            "text/plain": [
              "True"
            ]
          },
          "metadata": {
            "tags": []
          },
          "execution_count": 36
        }
      ]
    },
    {
      "cell_type": "code",
      "metadata": {
        "id": "hgOKX4qu0s1y"
      },
      "source": [
        ""
      ],
      "execution_count": null,
      "outputs": []
    }
  ]
}